{
 "cells": [
  {
   "cell_type": "markdown",
   "metadata": {},
   "source": [
    "# Loops Review"
   ]
  },
  {
   "cell_type": "code",
   "execution_count": 1,
   "metadata": {},
   "outputs": [
    {
     "name": "stdout",
     "output_type": "stream",
     "text": [
      "0 0\n",
      "1 1\n",
      "2 4\n",
      "3 9\n",
      "4 16\n"
     ]
    }
   ],
   "source": [
    "for i in range(5):\n",
    "    print(i, i**2)"
   ]
  },
  {
   "cell_type": "markdown",
   "metadata": {},
   "source": [
    "### Brief Notes\n",
    "Notice above that we used `for i in range(5)` which includes 5 elements but starts with 0 and ends with 4.   \n",
    "If we wanted the numbers 1 through 5 we would instead use the loop `for i in range(1,6)`."
   ]
  },
  {
   "cell_type": "markdown",
   "metadata": {},
   "source": [
    "# Booleans and Conditionals Review"
   ]
  },
  {
   "cell_type": "markdown",
   "metadata": {},
   "source": [
    "## A simple example"
   ]
  },
  {
   "cell_type": "code",
   "execution_count": 2,
   "metadata": {},
   "outputs": [
    {
     "name": "stdout",
     "output_type": "stream",
     "text": [
      "This is the start of the program.\n",
      "This is the start of iteration.\n",
      "i is: 0\n",
      "i is even\n",
      "\n",
      "\n",
      "i is: 1\n",
      "i is odd, but not prime\n",
      "\n",
      "\n",
      "i is: 2\n",
      "i is even\n",
      "\n",
      "\n",
      "i is: 3\n",
      "i is prime!\n",
      "\n",
      "\n",
      "i is: 4\n",
      "i is even\n",
      "\n",
      "\n",
      "i is: 5\n",
      "i is prime!\n",
      "\n",
      "\n",
      "i is: 6\n",
      "i is even\n",
      "\n",
      "\n",
      "i is: 7\n",
      "i is prime!\n",
      "\n",
      "\n",
      "i is: 8\n",
      "i is even\n",
      "\n",
      "\n",
      "i is: 9\n",
      "i is odd, but not prime\n",
      "\n",
      "\n",
      "i is: 10\n",
      "i is even\n",
      "\n",
      "\n",
      "i is: 11\n",
      "i is prime!\n",
      "\n",
      "\n",
      "For loop complete.\n",
      "Script complete.\n"
     ]
    }
   ],
   "source": [
    "print('This is the start of the program.')\n",
    "print('This is the start of iteration.')\n",
    "for i in range(12):\n",
    "    #This is the start of the for loop.\n",
    "    print('i is: {}'.format(i)) #This happens every iteration\n",
    "    \n",
    "    if i % 2 == 0:\n",
    "        print('i is even')\n",
    "    elif i in [3,5,7,11]:\n",
    "        print('i is prime!')\n",
    "    elif i == 4:\n",
    "        print('i is 4') #This will never actually happen because the conditional terminates since 4 is also even\n",
    "    else:\n",
    "        print('i is odd, but not prime')\n",
    "    \n",
    "    print('\\n') #This is outside both conditional blocks. This happens once per iteration\n",
    "    #Iteration completes, program returns to start of iteration block.\n",
    "print('For loop complete.')\n",
    "print('Script complete.')"
   ]
  },
  {
   "cell_type": "markdown",
   "metadata": {},
   "source": [
    "### Brief notes\n",
    "Notice the common conditional `i % 2 == 0` which is used to determine if a number is even (or odd). Recall that the `%` operator returns the remainder when dividing i by 2. Equivalently, this is i mod 2.  \n",
    "\n",
    "Also note that the second elif clause `elif i == 4` is never executed because the conditional block completes as soon as a clause is true. In the below example, we examine how multiple conditional blocks can be chained.  \n",
    "\n",
    "Another style that can be explored is combining multiple conditions such as `if i > 5 and i < 10:` or `if i == 7 or i > 8:`. In general, combining statements such as this should be used as opposed to nesting conditional blocks within each other which can become difficult to read. For example: "
   ]
  },
  {
   "cell_type": "code",
   "execution_count": 1,
   "metadata": {},
   "outputs": [
    {
     "name": "stdout",
     "output_type": "stream",
     "text": [
      "6\n",
      "7\n",
      "8\n",
      "9\n"
     ]
    }
   ],
   "source": [
    "for i in range(50):\n",
    "    if i >5:\n",
    "        #Works but cautionary style. Often can become difficult to read. Do not overnest conditionals.\n",
    "        if i < 10:\n",
    "            print(i)#to be executed"
   ]
  },
  {
   "cell_type": "markdown",
   "metadata": {},
   "source": [
    "## A complex example"
   ]
  },
  {
   "cell_type": "code",
   "execution_count": 2,
   "metadata": {},
   "outputs": [
    {
     "name": "stdout",
     "output_type": "stream",
     "text": [
      "This is the start of the program.\n",
      "This is the start of iteration.\n",
      "i is: 0\n",
      "This is the first condition block.\n",
      "i is less then 6\n",
      "This is the second condition block.\n",
      "i is even\n",
      "\n",
      "\n",
      "i is: 1\n",
      "This is the first condition block.\n",
      "i is less then 6\n",
      "This is the second condition block.\n",
      "i is odd\n",
      "\n",
      "\n",
      "i is: 2\n",
      "This is the first condition block.\n",
      "i is less then 6\n",
      "This is the second condition block.\n",
      "i is even\n",
      "\n",
      "\n",
      "i is: 3\n",
      "This is the first condition block.\n",
      "i is less then 6\n",
      "This is the second condition block.\n",
      "i is odd\n",
      "\n",
      "\n",
      "i is: 4\n",
      "This is the first condition block.\n",
      "i is less then 6\n",
      "This is the second condition block.\n",
      "i is even\n",
      "\n",
      "\n",
      "i is: 5\n",
      "This is the first condition block.\n",
      "i is less then 6\n",
      "This is the second condition block.\n",
      "i is odd\n",
      "\n",
      "\n",
      "i is: 6\n",
      "This is the first condition block.\n",
      "i is even\n",
      "this statement only executes if the if condition above (i<6) is false.\n",
      "This is the second condition block.\n",
      "i is even\n",
      "\n",
      "\n",
      "i is: 7\n",
      "This is the first condition block.\n",
      "i is 7!\n",
      "This is the second condition block.\n",
      "i is odd\n",
      "\n",
      "\n",
      "i is: 8\n",
      "This is the first condition block.\n",
      "i is even\n",
      "this statement only executes if the if condition above (i<6) is false.\n",
      "This is the second condition block.\n",
      "i is even\n",
      "\n",
      "\n",
      "i is: 9\n",
      "This is the first condition block.\n",
      "Bigger then 7, and odd\n",
      "This is the second condition block.\n",
      "i is odd\n",
      "\n",
      "\n",
      "i is: 10\n",
      "This is the first condition block.\n",
      "i is even\n",
      "this statement only executes if the if condition above (i<6) is false.\n",
      "This is the second condition block.\n",
      "i is even\n",
      "\n",
      "\n",
      "i is: 11\n",
      "This is the first condition block.\n",
      "Bigger then 7, and odd\n",
      "This is the second condition block.\n",
      "i is odd\n",
      "\n",
      "\n",
      "For loop complete.\n",
      "Script complete.\n"
     ]
    }
   ],
   "source": [
    "print('This is the start of the program.')\n",
    "print('This is the start of iteration.')\n",
    "for i in range(12):\n",
    "    #This is the start of the for loop.\n",
    "    print('i is: {}'.format(i)) #This happens every iteration\n",
    "    print('This is the first condition block.')\n",
    "    #This is the start of our conditional block\n",
    "    if i < 6:\n",
    "        print('i is less then 6') #This is inside the 'if i < 6 condition'\n",
    "    elif i % 2 == 0:\n",
    "        print('i is even') #This is inside the 'elif i % 2 == 0 condition'\n",
    "        print('this statement only executes if the if condition above (i<6) is false.')\n",
    "        #The elif condition is only reached if the preceeding if statement is false.\n",
    "        #Once one of the branches is triggered, the program exits this entire conditional block\n",
    "    elif i == 7:\n",
    "        print('i is 7!')\n",
    "    else:\n",
    "        print('Bigger then 7, and odd')\n",
    "    #End of first conditional block\n",
    "    \n",
    "    #Start of second conditional block\n",
    "    print('This is the second condition block.')\n",
    "    if i % 2 == 0:\n",
    "        print('i is even')\n",
    "    else:\n",
    "        print('i is odd')\n",
    "    #End of second contional block\n",
    "    \n",
    "    print('\\n') #This is outside both conditional blocks. This happens once per iteration\n",
    "    #Iteration completes, program returns to start of iteration block.\n",
    "print('For loop complete.')\n",
    "print('Script complete.')"
   ]
  },
  {
   "cell_type": "markdown",
   "metadata": {},
   "source": [
    "# Biz Buzz Bop\n",
    "You can quickly generate a list of numbers by using the range function. Use a for loop to iterate through the numbers 1 to 100, inclusive, print the number n, along with the following conditional actions:\n",
    "\n",
    "* If  n is odd, print ‘is odd’\n",
    "* If  n is even and divisible by 7, print ‘is divisible by 14’\n",
    "* If  n is divisible by 5, but not even, print ‘high five!’\n",
    "* If  n is greater than 30, less then 45 and divisible by 8, print ‘this happens twice!’"
   ]
  },
  {
   "cell_type": "code",
   "execution_count": 31,
   "metadata": {},
   "outputs": [
    {
     "name": "stdout",
     "output_type": "stream",
     "text": [
      "1 is odd\n",
      "3 is odd\n",
      "5 is odd\n",
      "7 is odd\n",
      "9 is odd\n",
      "10 high five\n",
      "11 is odd\n",
      "13 is odd\n",
      "14 is divisible by 14\n",
      "15 is odd\n",
      "17 is odd\n",
      "19 is odd\n",
      "20 high five\n",
      "21 is odd\n",
      "23 is odd\n",
      "25 is odd\n",
      "27 is odd\n",
      "28 is divisible by 14\n",
      "29 is odd\n",
      "30 high five\n",
      "31 is odd\n",
      "32 this happens twice\n",
      "33 is odd\n",
      "35 is odd\n",
      "37 is odd\n",
      "39 is odd\n",
      "40 high five\n",
      "40 this happens twice\n",
      "41 is odd\n",
      "42 is divisible by 14\n",
      "43 is odd\n",
      "45 is odd\n",
      "47 is odd\n",
      "49 is odd\n",
      "50 high five\n",
      "51 is odd\n",
      "53 is odd\n",
      "55 is odd\n",
      "56 is divisible by 14\n",
      "57 is odd\n",
      "59 is odd\n",
      "60 high five\n",
      "61 is odd\n",
      "63 is odd\n",
      "65 is odd\n",
      "67 is odd\n",
      "69 is odd\n",
      "70 is divisible by 14\n",
      "70 high five\n",
      "71 is odd\n",
      "73 is odd\n",
      "75 is odd\n",
      "77 is odd\n",
      "79 is odd\n",
      "80 high five\n",
      "81 is odd\n",
      "83 is odd\n",
      "84 is divisible by 14\n",
      "85 is odd\n",
      "87 is odd\n",
      "89 is odd\n",
      "90 high five\n",
      "91 is odd\n",
      "93 is odd\n",
      "95 is odd\n",
      "97 is odd\n",
      "98 is divisible by 14\n",
      "99 is odd\n",
      "100 high five\n"
     ]
    }
   ],
   "source": [
    "for i in range(1,101):\n",
    "    if i % 2 != 0:\n",
    "        print(\"{}\".format(i), \"is odd\")\n",
    "    if i % 2 == 0:\n",
    "        if i % 7 == 0:\n",
    "            print(\"{}\".format(i),\"is divisible by 14\")\n",
    "    if i % 5 ==  0:\n",
    "        if i % 2 == 0:\n",
    "            print(\"{}\".format(i),\"high five\")\n",
    "    if i > 30:\n",
    "        if i < 45:\n",
    "            if i % 8 == 0:\n",
    "                print(\"{}\".format(i),\"this happens twice\")\n",
    "    \n",
    "    #print('\\n')\n",
    "                "
   ]
  },
  {
   "cell_type": "markdown",
   "metadata": {},
   "source": [
    "# Extension\n",
    "Write a condition to determine if the number is prime."
   ]
  },
  {
   "cell_type": "code",
   "execution_count": 39,
   "metadata": {},
   "outputs": [
    {
     "ename": "SyntaxError",
     "evalue": "invalid syntax (<ipython-input-39-33a3c1e508a6>, line 5)",
     "output_type": "error",
     "traceback": [
      "\u001b[0;36m  File \u001b[0;32m\"<ipython-input-39-33a3c1e508a6>\"\u001b[0;36m, line \u001b[0;32m5\u001b[0m\n\u001b[0;31m    break        else:\u001b[0m\n\u001b[0m                    ^\u001b[0m\n\u001b[0;31mSyntaxError\u001b[0m\u001b[0;31m:\u001b[0m invalid syntax\n"
     ]
    }
   ],
   "source": [
    "number= 408\n",
    "if number > 1:\n",
    "    for i in range(2,number):\n",
    "        if number % 2 == 0:\n",
    "            break        else:\n",
    "            print(\"{}\".format(number), \"is prime\")"
   ]
  },
  {
   "cell_type": "code",
   "execution_count": null,
   "metadata": {},
   "outputs": [],
   "source": []
  }
 ],
 "metadata": {
  "kernelspec": {
   "display_name": "Python 3",
   "language": "python",
   "name": "python3"
  },
  "language_info": {
   "codemirror_mode": {
    "name": "ipython",
    "version": 3
   },
   "file_extension": ".py",
   "mimetype": "text/x-python",
   "name": "python",
   "nbconvert_exporter": "python",
   "pygments_lexer": "ipython3",
   "version": "3.6.4"
  }
 },
 "nbformat": 4,
 "nbformat_minor": 2
}
